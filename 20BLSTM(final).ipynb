{
  "cells": [
    {
      "cell_type": "code",
      "execution_count": null,
      "metadata": {
        "id": "7ZqlJeAk74Z4"
      },
      "outputs": [],
      "source": [
        "import numpy as np\n",
        "import pandas as pd\n",
        "import matplotlib.pyplot as plt\n",
        "import seaborn as sns\n",
        "\n",
        "import tensorflow as tf\n",
        "import tensorflow.keras"
      ]
    },
    {
      "cell_type": "code",
      "execution_count": null,
      "metadata": {
        "colab": {
          "base_uri": "https://localhost:8080/"
        },
        "id": "TdtjEHgp7-Wn",
        "outputId": "a86c26e8-5a6a-4a97-f7d7-365dd307da0b"
      },
      "outputs": [
        {
          "name": "stdout",
          "output_type": "stream",
          "text": [
            "Mounted at /content/drive\n"
          ]
        }
      ],
      "source": [
        "from google.colab import drive\n",
        "drive.mount(\"/content/drive\", force_remount=True)"
      ]
    },
    {
      "cell_type": "code",
      "execution_count": null,
      "metadata": {
        "colab": {
          "base_uri": "https://localhost:8080/"
        },
        "id": "GVkrwoDC8P-m",
        "outputId": "0be01081-7804-4e63-983b-201ac36e56f4"
      },
      "outputs": [
        {
          "name": "stdout",
          "output_type": "stream",
          "text": [
            "drive  sample_data\n"
          ]
        }
      ],
      "source": [
        "!cd  /content/drive/MyDrive/AI_final_project\n",
        "!ls"
      ]
    },
    {
      "cell_type": "code",
      "execution_count": null,
      "metadata": {
        "id": "Tmm9MsxU8Q3h"
      },
      "outputs": [],
      "source": [
        "df = pd.read_csv(\"/content/drive/MyDrive/AI_final_project/最終dataset/20_mapped_data.csv\")\n",
        "df.dropna(inplace=True)"
      ]
    },
    {
      "cell_type": "code",
      "execution_count": null,
      "metadata": {
        "colab": {
          "base_uri": "https://localhost:8080/",
          "height": 363
        },
        "id": "hu_nFZG38ddt",
        "outputId": "0fee0771-365c-43e9-c8df-c99f3b3d0930"
      },
      "outputs": [
        {
          "data": {
            "application/vnd.google.colaboratory.intrinsic+json": {
              "summary": "{\n  \"name\": \"df\",\n  \"rows\": 20078,\n  \"fields\": [\n    {\n      \"column\": \"Text\",\n      \"properties\": {\n        \"dtype\": \"string\",\n        \"num_unique_values\": 13003,\n        \"samples\": [\n          \"['\\u8f49\\u64ad', '\\u8cc7\\u8a0a', '\\u8acb', '\\u53c3\\u8003', '\\u5b98\\u7db2']\",\n          \"['\\u5b78\\u59d0', '\\u82f1\\u6587', '\\u597d\\u96fb']\",\n          \"['\\u58a8\\u93e1', '\\u4e00\\u7248']\"\n        ],\n        \"semantic_type\": \"\",\n        \"description\": \"\"\n      }\n    },\n    {\n      \"column\": \"Index\",\n      \"properties\": {\n        \"dtype\": \"number\",\n        \"std\": 5,\n        \"min\": 0,\n        \"max\": 19,\n        \"num_unique_values\": 20,\n        \"samples\": [\n          11,\n          13,\n          17\n        ],\n        \"semantic_type\": \"\",\n        \"description\": \"\"\n      }\n    }\n  ]\n}",
              "type": "dataframe",
              "variable_name": "df"
            },
            "text/html": [
              "\n",
              "  <div id=\"df-3ba630f1-308d-4a2d-9ec2-ae581ed227df\" class=\"colab-df-container\">\n",
              "    <div>\n",
              "<style scoped>\n",
              "    .dataframe tbody tr th:only-of-type {\n",
              "        vertical-align: middle;\n",
              "    }\n",
              "\n",
              "    .dataframe tbody tr th {\n",
              "        vertical-align: top;\n",
              "    }\n",
              "\n",
              "    .dataframe thead th {\n",
              "        text-align: right;\n",
              "    }\n",
              "</style>\n",
              "<table border=\"1\" class=\"dataframe\">\n",
              "  <thead>\n",
              "    <tr style=\"text-align: right;\">\n",
              "      <th></th>\n",
              "      <th>Text</th>\n",
              "      <th>Index</th>\n",
              "    </tr>\n",
              "  </thead>\n",
              "  <tbody>\n",
              "    <tr>\n",
              "      <th>0</th>\n",
              "      <td>['一次', '三週年', '甜點', '盤']</td>\n",
              "      <td>11</td>\n",
              "    </tr>\n",
              "    <tr>\n",
              "      <th>1</th>\n",
              "      <td>['一樣', '好吃']</td>\n",
              "      <td>14</td>\n",
              "    </tr>\n",
              "    <tr>\n",
              "      <th>2</th>\n",
              "      <td>['想當初', '他們', '剛', '開時', '大二', '中間', '疫情']</td>\n",
              "      <td>9</td>\n",
              "    </tr>\n",
              "    <tr>\n",
              "      <th>3</th>\n",
              "      <td>['現在', '畢業', '迎來', '他們', '第三年', '特別', '有感']</td>\n",
              "      <td>14</td>\n",
              "    </tr>\n",
              "    <tr>\n",
              "      <th>4</th>\n",
              "      <td>['抹', '心悸', '好吃']</td>\n",
              "      <td>5</td>\n",
              "    </tr>\n",
              "    <tr>\n",
              "      <th>5</th>\n",
              "      <td>['抹', '心悸', '好吃']</td>\n",
              "      <td>9</td>\n",
              "    </tr>\n",
              "    <tr>\n",
              "      <th>6</th>\n",
              "      <td>['口感', '軟偏', '紮實', '搭', '上', '順口', '濃抹', '鮮奶油'...</td>\n",
              "      <td>9</td>\n",
              "    </tr>\n",
              "    <tr>\n",
              "      <th>7</th>\n",
              "      <td>['微甜', '不膩', '輕柔', '口感', '流連忘返']</td>\n",
              "      <td>5</td>\n",
              "    </tr>\n",
              "    <tr>\n",
              "      <th>8</th>\n",
              "      <td>['搜尋', '地區', '甜食', '吃', '中山', '國', '中']</td>\n",
              "      <td>4</td>\n",
              "    </tr>\n",
              "    <tr>\n",
              "      <th>9</th>\n",
              "      <td>['搜尋', '種類', '甜食', '吃', '千層']</td>\n",
              "      <td>4</td>\n",
              "    </tr>\n",
              "  </tbody>\n",
              "</table>\n",
              "</div>\n",
              "    <div class=\"colab-df-buttons\">\n",
              "\n",
              "  <div class=\"colab-df-container\">\n",
              "    <button class=\"colab-df-convert\" onclick=\"convertToInteractive('df-3ba630f1-308d-4a2d-9ec2-ae581ed227df')\"\n",
              "            title=\"Convert this dataframe to an interactive table.\"\n",
              "            style=\"display:none;\">\n",
              "\n",
              "  <svg xmlns=\"http://www.w3.org/2000/svg\" height=\"24px\" viewBox=\"0 -960 960 960\">\n",
              "    <path d=\"M120-120v-720h720v720H120Zm60-500h600v-160H180v160Zm220 220h160v-160H400v160Zm0 220h160v-160H400v160ZM180-400h160v-160H180v160Zm440 0h160v-160H620v160ZM180-180h160v-160H180v160Zm440 0h160v-160H620v160Z\"/>\n",
              "  </svg>\n",
              "    </button>\n",
              "\n",
              "  <style>\n",
              "    .colab-df-container {\n",
              "      display:flex;\n",
              "      gap: 12px;\n",
              "    }\n",
              "\n",
              "    .colab-df-convert {\n",
              "      background-color: #E8F0FE;\n",
              "      border: none;\n",
              "      border-radius: 50%;\n",
              "      cursor: pointer;\n",
              "      display: none;\n",
              "      fill: #1967D2;\n",
              "      height: 32px;\n",
              "      padding: 0 0 0 0;\n",
              "      width: 32px;\n",
              "    }\n",
              "\n",
              "    .colab-df-convert:hover {\n",
              "      background-color: #E2EBFA;\n",
              "      box-shadow: 0px 1px 2px rgba(60, 64, 67, 0.3), 0px 1px 3px 1px rgba(60, 64, 67, 0.15);\n",
              "      fill: #174EA6;\n",
              "    }\n",
              "\n",
              "    .colab-df-buttons div {\n",
              "      margin-bottom: 4px;\n",
              "    }\n",
              "\n",
              "    [theme=dark] .colab-df-convert {\n",
              "      background-color: #3B4455;\n",
              "      fill: #D2E3FC;\n",
              "    }\n",
              "\n",
              "    [theme=dark] .colab-df-convert:hover {\n",
              "      background-color: #434B5C;\n",
              "      box-shadow: 0px 1px 3px 1px rgba(0, 0, 0, 0.15);\n",
              "      filter: drop-shadow(0px 1px 2px rgba(0, 0, 0, 0.3));\n",
              "      fill: #FFFFFF;\n",
              "    }\n",
              "  </style>\n",
              "\n",
              "    <script>\n",
              "      const buttonEl =\n",
              "        document.querySelector('#df-3ba630f1-308d-4a2d-9ec2-ae581ed227df button.colab-df-convert');\n",
              "      buttonEl.style.display =\n",
              "        google.colab.kernel.accessAllowed ? 'block' : 'none';\n",
              "\n",
              "      async function convertToInteractive(key) {\n",
              "        const element = document.querySelector('#df-3ba630f1-308d-4a2d-9ec2-ae581ed227df');\n",
              "        const dataTable =\n",
              "          await google.colab.kernel.invokeFunction('convertToInteractive',\n",
              "                                                    [key], {});\n",
              "        if (!dataTable) return;\n",
              "\n",
              "        const docLinkHtml = 'Like what you see? Visit the ' +\n",
              "          '<a target=\"_blank\" href=https://colab.research.google.com/notebooks/data_table.ipynb>data table notebook</a>'\n",
              "          + ' to learn more about interactive tables.';\n",
              "        element.innerHTML = '';\n",
              "        dataTable['output_type'] = 'display_data';\n",
              "        await google.colab.output.renderOutput(dataTable, element);\n",
              "        const docLink = document.createElement('div');\n",
              "        docLink.innerHTML = docLinkHtml;\n",
              "        element.appendChild(docLink);\n",
              "      }\n",
              "    </script>\n",
              "  </div>\n",
              "\n",
              "\n",
              "<div id=\"df-90568130-b839-4e9d-a608-04e959ca3e74\">\n",
              "  <button class=\"colab-df-quickchart\" onclick=\"quickchart('df-90568130-b839-4e9d-a608-04e959ca3e74')\"\n",
              "            title=\"Suggest charts\"\n",
              "            style=\"display:none;\">\n",
              "\n",
              "<svg xmlns=\"http://www.w3.org/2000/svg\" height=\"24px\"viewBox=\"0 0 24 24\"\n",
              "     width=\"24px\">\n",
              "    <g>\n",
              "        <path d=\"M19 3H5c-1.1 0-2 .9-2 2v14c0 1.1.9 2 2 2h14c1.1 0 2-.9 2-2V5c0-1.1-.9-2-2-2zM9 17H7v-7h2v7zm4 0h-2V7h2v10zm4 0h-2v-4h2v4z\"/>\n",
              "    </g>\n",
              "</svg>\n",
              "  </button>\n",
              "\n",
              "<style>\n",
              "  .colab-df-quickchart {\n",
              "      --bg-color: #E8F0FE;\n",
              "      --fill-color: #1967D2;\n",
              "      --hover-bg-color: #E2EBFA;\n",
              "      --hover-fill-color: #174EA6;\n",
              "      --disabled-fill-color: #AAA;\n",
              "      --disabled-bg-color: #DDD;\n",
              "  }\n",
              "\n",
              "  [theme=dark] .colab-df-quickchart {\n",
              "      --bg-color: #3B4455;\n",
              "      --fill-color: #D2E3FC;\n",
              "      --hover-bg-color: #434B5C;\n",
              "      --hover-fill-color: #FFFFFF;\n",
              "      --disabled-bg-color: #3B4455;\n",
              "      --disabled-fill-color: #666;\n",
              "  }\n",
              "\n",
              "  .colab-df-quickchart {\n",
              "    background-color: var(--bg-color);\n",
              "    border: none;\n",
              "    border-radius: 50%;\n",
              "    cursor: pointer;\n",
              "    display: none;\n",
              "    fill: var(--fill-color);\n",
              "    height: 32px;\n",
              "    padding: 0;\n",
              "    width: 32px;\n",
              "  }\n",
              "\n",
              "  .colab-df-quickchart:hover {\n",
              "    background-color: var(--hover-bg-color);\n",
              "    box-shadow: 0 1px 2px rgba(60, 64, 67, 0.3), 0 1px 3px 1px rgba(60, 64, 67, 0.15);\n",
              "    fill: var(--button-hover-fill-color);\n",
              "  }\n",
              "\n",
              "  .colab-df-quickchart-complete:disabled,\n",
              "  .colab-df-quickchart-complete:disabled:hover {\n",
              "    background-color: var(--disabled-bg-color);\n",
              "    fill: var(--disabled-fill-color);\n",
              "    box-shadow: none;\n",
              "  }\n",
              "\n",
              "  .colab-df-spinner {\n",
              "    border: 2px solid var(--fill-color);\n",
              "    border-color: transparent;\n",
              "    border-bottom-color: var(--fill-color);\n",
              "    animation:\n",
              "      spin 1s steps(1) infinite;\n",
              "  }\n",
              "\n",
              "  @keyframes spin {\n",
              "    0% {\n",
              "      border-color: transparent;\n",
              "      border-bottom-color: var(--fill-color);\n",
              "      border-left-color: var(--fill-color);\n",
              "    }\n",
              "    20% {\n",
              "      border-color: transparent;\n",
              "      border-left-color: var(--fill-color);\n",
              "      border-top-color: var(--fill-color);\n",
              "    }\n",
              "    30% {\n",
              "      border-color: transparent;\n",
              "      border-left-color: var(--fill-color);\n",
              "      border-top-color: var(--fill-color);\n",
              "      border-right-color: var(--fill-color);\n",
              "    }\n",
              "    40% {\n",
              "      border-color: transparent;\n",
              "      border-right-color: var(--fill-color);\n",
              "      border-top-color: var(--fill-color);\n",
              "    }\n",
              "    60% {\n",
              "      border-color: transparent;\n",
              "      border-right-color: var(--fill-color);\n",
              "    }\n",
              "    80% {\n",
              "      border-color: transparent;\n",
              "      border-right-color: var(--fill-color);\n",
              "      border-bottom-color: var(--fill-color);\n",
              "    }\n",
              "    90% {\n",
              "      border-color: transparent;\n",
              "      border-bottom-color: var(--fill-color);\n",
              "    }\n",
              "  }\n",
              "</style>\n",
              "\n",
              "  <script>\n",
              "    async function quickchart(key) {\n",
              "      const quickchartButtonEl =\n",
              "        document.querySelector('#' + key + ' button');\n",
              "      quickchartButtonEl.disabled = true;  // To prevent multiple clicks.\n",
              "      quickchartButtonEl.classList.add('colab-df-spinner');\n",
              "      try {\n",
              "        const charts = await google.colab.kernel.invokeFunction(\n",
              "            'suggestCharts', [key], {});\n",
              "      } catch (error) {\n",
              "        console.error('Error during call to suggestCharts:', error);\n",
              "      }\n",
              "      quickchartButtonEl.classList.remove('colab-df-spinner');\n",
              "      quickchartButtonEl.classList.add('colab-df-quickchart-complete');\n",
              "    }\n",
              "    (() => {\n",
              "      let quickchartButtonEl =\n",
              "        document.querySelector('#df-90568130-b839-4e9d-a608-04e959ca3e74 button');\n",
              "      quickchartButtonEl.style.display =\n",
              "        google.colab.kernel.accessAllowed ? 'block' : 'none';\n",
              "    })();\n",
              "  </script>\n",
              "</div>\n",
              "\n",
              "    </div>\n",
              "  </div>\n"
            ],
            "text/plain": [
              "                                                Text  Index\n",
              "0                           ['一次', '三週年', '甜點', '盤']     11\n",
              "1                                       ['一樣', '好吃']     14\n",
              "2         ['想當初', '他們', '剛', '開時', '大二', '中間', '疫情']      9\n",
              "3        ['現在', '畢業', '迎來', '他們', '第三年', '特別', '有感']     14\n",
              "4                                  ['抹', '心悸', '好吃']      5\n",
              "5                                  ['抹', '心悸', '好吃']      9\n",
              "6  ['口感', '軟偏', '紮實', '搭', '上', '順口', '濃抹', '鮮奶油'...      9\n",
              "7                   ['微甜', '不膩', '輕柔', '口感', '流連忘返']      5\n",
              "8            ['搜尋', '地區', '甜食', '吃', '中山', '國', '中']      4\n",
              "9                      ['搜尋', '種類', '甜食', '吃', '千層']      4"
            ]
          },
          "execution_count": 5,
          "metadata": {},
          "output_type": "execute_result"
        }
      ],
      "source": [
        "df.head(10)"
      ]
    },
    {
      "cell_type": "markdown",
      "metadata": {
        "id": "uIXXl2wk8gIy"
      },
      "source": [
        "### Over-sampling data"
      ]
    },
    {
      "cell_type": "code",
      "execution_count": null,
      "metadata": {
        "id": "skORDCnw8hu9"
      },
      "outputs": [],
      "source": [
        "X = df[\"Text\"].values\n",
        "y = df[\"Index\"].values"
      ]
    },
    {
      "cell_type": "code",
      "execution_count": null,
      "metadata": {
        "id": "cHYehHszAW6B"
      },
      "outputs": [],
      "source": [
        "from imblearn.over_sampling import RandomOverSampler\n",
        "\n",
        "os = RandomOverSampler()\n",
        "X = X.reshape(-1,1)\n",
        "X, y = os.fit_resample(X, y)"
      ]
    },
    {
      "cell_type": "code",
      "execution_count": null,
      "metadata": {
        "colab": {
          "base_uri": "https://localhost:8080/"
        },
        "id": "ghk94-M3AXWP",
        "outputId": "3ded74ad-bebd-4b8d-b186-e4a4078f9e37"
      },
      "outputs": [
        {
          "data": {
            "text/plain": [
              "(86120,)"
            ]
          },
          "execution_count": 9,
          "metadata": {},
          "output_type": "execute_result"
        }
      ],
      "source": [
        "X = X.reshape(-1,)\n",
        "X.shape"
      ]
    },
    {
      "cell_type": "markdown",
      "metadata": {
        "id": "AL1NZsjpAdyx"
      },
      "source": [
        "### Tokenization"
      ]
    },
    {
      "cell_type": "code",
      "execution_count": null,
      "metadata": {
        "colab": {
          "base_uri": "https://localhost:8080/"
        },
        "id": "z_4NBO69Ae3n",
        "outputId": "3254e947-67ab-4128-82da-0ecbab369c10"
      },
      "outputs": [
        {
          "name": "stdout",
          "output_type": "stream",
          "text": [
            "Tokenized Sentences (first 10 sentences with stopwords removed):\n",
            "['一次', '三週年', '甜點', '盤']\n",
            "['一樣', '好吃']\n",
            "['想當初', '他們', '剛', '開時', '大二', '中間', '疫情']\n",
            "['現在', '畢業', '迎來', '他們', '第三年', '特別', '有感']\n",
            "['抹', '心悸', '好吃']\n",
            "['抹', '心悸', '好吃']\n",
            "['口感', '軟偏', '紮實', '搭', '上', '順口', '濃抹', '鮮奶油', '絕配']\n",
            "['微甜', '不膩', '輕柔', '口感', '流連忘返']\n",
            "['搜尋', '地區', '甜食', '吃', '中山', '國', '中']\n",
            "['搜尋', '種類', '甜食', '吃', '千層']\n"
          ]
        }
      ],
      "source": [
        "import ast\n",
        "tokenized_sentences = []\n",
        "for sentence in X:\n",
        "  actual_list = ast.literal_eval(sentence)\n",
        "  tokenized_sentences.append(actual_list)\n",
        "\n",
        "print(\"Tokenized Sentences (first 10 sentences with stopwords removed):\")\n",
        "for i, sentence in enumerate(tokenized_sentences[:10]):\n",
        "    print(sentence)"
      ]
    },
    {
      "cell_type": "code",
      "execution_count": null,
      "metadata": {
        "colab": {
          "base_uri": "https://localhost:8080/"
        },
        "id": "2nMvHgLnAspN",
        "outputId": "83062612-4933-4593-f734-f85cd6c54845"
      },
      "outputs": [
        {
          "name": "stdout",
          "output_type": "stream",
          "text": [
            "Text \n",
            " ['一次 三週年 甜點 盤', '一樣 好吃', '想當初 他們 剛 開時 大二 中間 疫情', '現在 畢業 迎來 他們 第三年 特別 有感', '抹 心悸 好吃', '抹 心悸 好吃', '口感 軟偏 紮實 搭 上 順口 濃抹 鮮奶油 絕配', '微甜 不膩 輕柔 口感 流連忘返', '搜尋 地區 甜食 吃 中山 國 中', '搜尋 種類 甜食 吃 千層'] \n",
            "\n",
            "Sequences:\n"
          ]
        },
        {
          "data": {
            "text/plain": [
              "[[76, 7980, 950, 7457],\n",
              " [119, 48],\n",
              " [7458, 175, 2957, 5034, 10070, 3807, 2182],\n",
              " [58, 420, 1943, 175, 5335, 96, 1892],\n",
              " [228, 6032, 48],\n",
              " [228, 6032, 48],\n",
              " [337, 10947, 10948, 282, 50, 2087, 10071, 10949, 4582],\n",
              " [10072, 4804, 4354, 337, 10073],\n",
              " [541, 1013, 493, 18, 2681, 3420, 64],\n",
              " [541, 1014, 493, 18, 5336]]"
            ]
          },
          "execution_count": 11,
          "metadata": {},
          "output_type": "execute_result"
        }
      ],
      "source": [
        "from keras.preprocessing.text import Tokenizer\n",
        "\n",
        "# 將分詞結果轉換為文本形式，以便 Tokenizer 使用\n",
        "tokenized_texts = [\" \".join(sentence) for sentence in tokenized_sentences]\n",
        "\n",
        "# 初始化 Tokenizer 並擬合文本數據\n",
        "tokenizer = Tokenizer(num_words=80000)\n",
        "tokenizer.fit_on_texts(tokenized_texts) #字按照頻率排序會計算文本數據中每個詞語的出現頻率，並基於這些頻率構建一個詞彙表。這個詞彙表可以用來將文本轉換為數字序列。\n",
        "\n",
        "print(\"Text \\n\",tokenized_texts[:10],'\\n')\n",
        "\n",
        "# 將文本轉換為數字序列\n",
        "X_seqs = tokenizer.texts_to_sequences(tokenized_texts)\n",
        "# 打印數字序列\n",
        "print(\"Sequences:\")\n",
        "X_seqs[:10]"
      ]
    },
    {
      "cell_type": "code",
      "execution_count": null,
      "metadata": {
        "colab": {
          "base_uri": "https://localhost:8080/"
        },
        "id": "-Ig2DNs9AzcY",
        "outputId": "9ce310b6-2992-4b8f-d97d-db62243428a7"
      },
      "outputs": [
        {
          "name": "stdout",
          "output_type": "stream",
          "text": [
            "Word Mappings\n",
            "\n",
            "Index:  1 ----> 想\n",
            "Index:  2 ----> 一起\n",
            "Index:  3 ----> 真的\n",
            "Index:  4 ----> 活動\n",
            "Index:  5 ----> 喜歡\n",
            "Index:  6 ----> 參加\n",
            "Index:  7 ----> 信箱\n",
            "Index:  8 ----> 友愛\n",
            "Index:  9 ----> 發\n",
            "Index:  10 ----> 奶昔\n",
            "Index:  11 ----> 大哥\n",
            "Index:  12 ----> 看\n",
            "Index:  13 ----> 打\n",
            "Index:  14 ----> 邊吃麥\n",
            "Index:  15 ----> 當當邊\n",
            "Index:  16 ----> 影片\n",
            "Index:  17 ----> 不\n",
            "Index:  18 ----> 吃\n",
            "Index:  19 ----> 你們\n",
            "Index:  20 ----> 自己\n"
          ]
        }
      ],
      "source": [
        "idx2words = tokenizer.index_word\n",
        "\n",
        "print(\"Word Mappings\\n\")\n",
        "for i in range(1,21):\n",
        "    print(\"Index: \",i, \"---->\",idx2words[i])"
      ]
    },
    {
      "cell_type": "code",
      "execution_count": null,
      "metadata": {
        "colab": {
          "base_uri": "https://localhost:8080/"
        },
        "id": "xG0px110A4x9",
        "outputId": "6fe76f4d-3c4c-4b97-9dcd-b2792ad4b4cb"
      },
      "outputs": [
        {
          "name": "stdout",
          "output_type": "stream",
          "text": [
            "Vocabulary size : 18101\n"
          ]
        }
      ],
      "source": [
        "vocab_size = len(tokenizer.index_word)\n",
        "print(\"Vocabulary size :\",len(tokenizer.index_word))"
      ]
    },
    {
      "cell_type": "markdown",
      "metadata": {
        "id": "GaR5TyFJBbaM"
      },
      "source": [
        "padding (把seqence轉成一樣長度)"
      ]
    },
    {
      "cell_type": "code",
      "execution_count": null,
      "metadata": {
        "colab": {
          "base_uri": "https://localhost:8080/",
          "height": 430
        },
        "id": "148I_vglBWeW",
        "outputId": "1a995b76-60ee-4481-a53a-4d49e99b3dfb"
      },
      "outputs": [
        {
          "data": {
            "image/png": "[encoded data removed]",
            "text/plain": [
              "<Figure size 640x480 with 1 Axes>"
            ]
          },
          "metadata": {},
          "output_type": "display_data"
        }
      ],
      "source": [
        "lens = [len(seq) for seq in X_seqs]\n",
        "sns.countplot(x=lens)\n",
        "plt.show()"
      ]
    },
    {
      "cell_type": "code",
      "execution_count": null,
      "metadata": {
        "colab": {
          "base_uri": "https://localhost:8080/"
        },
        "id": "RjRMCZ2kYqbq",
        "outputId": "3512dde4-09c4-4e57-9def-f39cf4b8bbdb"
      },
      "outputs": [
        {
          "data": {
            "text/plain": [
              "137"
            ]
          },
          "execution_count": 20,
          "metadata": {},
          "output_type": "execute_result"
        }
      ],
      "source": [
        "max(lens)"
      ]
    },
    {
      "cell_type": "code",
      "execution_count": null,
      "metadata": {
        "id": "5oNTU7B8BZS4"
      },
      "outputs": [],
      "source": [
        "from keras.preprocessing.sequence import pad_sequences\n",
        "\n",
        "max_len=140\n",
        "X_seqs_pd = pad_sequences(X_seqs, truncating=\"pre\", padding=\"pre\", maxlen=max_len)"
      ]
    },
    {
      "cell_type": "code",
      "execution_count": null,
      "metadata": {
        "colab": {
          "base_uri": "https://localhost:8080/"
        },
        "id": "aIYh_3QCBa_X",
        "outputId": "44f67cfb-d644-4c04-86dc-48136160089d"
      },
      "outputs": [
        {
          "name": "stdout",
          "output_type": "stream",
          "text": [
            "Before Padding\n",
            "[[79, 8682, 939, 8101]]\n",
            "\n",
            "After Padding\n",
            "[[   0    0    0    0    0    0    0    0    0    0    0    0    0    0\n",
            "     0    0    0    0    0    0    0    0    0    0    0    0    0    0\n",
            "     0    0    0    0    0    0    0    0    0    0    0    0    0    0\n",
            "     0    0    0    0    0    0    0    0    0    0    0    0    0    0\n",
            "     0    0    0    0    0    0    0    0    0    0    0    0    0    0\n",
            "     0    0    0    0    0    0    0    0    0    0    0    0    0    0\n",
            "     0    0    0    0    0    0    0    0    0    0    0    0    0    0\n",
            "     0    0    0    0    0    0    0    0    0    0    0    0    0    0\n",
            "     0    0    0    0    0    0    0    0    0    0    0    0    0    0\n",
            "     0    0    0    0    0    0    0    0    0    0   79 8682  939 8101]]\n"
          ]
        }
      ],
      "source": [
        "print(\"Before Padding\")\n",
        "print(X_seqs[:1])\n",
        "\n",
        "print(\"\\nAfter Padding\")\n",
        "print(X_seqs_pd[:1])"
      ]
    },
    {
      "cell_type": "code",
      "execution_count": null,
      "metadata": {
        "colab": {
          "base_uri": "https://localhost:8080/",
          "height": 430
        },
        "id": "q-wIutbiBeyk",
        "outputId": "9fe4ce8c-3f5d-4aea-f98a-6a3beb0ac53f"
      },
      "outputs": [
        {
          "data": {
            "image/png": "[encoded data removed]",
            "text/plain": [
              "<Figure size 640x480 with 1 Axes>"
            ]
          },
          "metadata": {},
          "output_type": "display_data"
        }
      ],
      "source": [
        "lens = [len(seq) for seq in X_seqs_pd]\n",
        "sns.countplot(x=lens)\n",
        "plt.show()"
      ]
    },
    {
      "cell_type": "markdown",
      "metadata": {
        "id": "i8FBJnHPBlfN"
      },
      "source": [
        "### Train Test Split"
      ]
    },
    {
      "cell_type": "code",
      "execution_count": null,
      "metadata": {
        "colab": {
          "base_uri": "https://localhost:8080/"
        },
        "id": "foWhdLMJBnkd",
        "outputId": "d44c1a0f-d742-4cc5-d964-793e703e650c"
      },
      "outputs": [
        {
          "name": "stdout",
          "output_type": "stream",
          "text": [
            "Training X Dim  (68896, 140)\n",
            "Training y Dim  (68896,)\n",
            "Test X Dim  (17224, 140)\n",
            "Test y Dim  (17224,)\n"
          ]
        }
      ],
      "source": [
        "from sklearn.model_selection import train_test_split\n",
        "\n",
        "X_train, X_test ,y_train, y_test = train_test_split(X_seqs_pd, y, test_size=0.2, random_state=105)\n",
        "print(\"Training X Dim \",X_train.shape)\n",
        "print(\"Training y Dim \",y_train.shape)\n",
        "\n",
        "print(\"Test X Dim \",X_test.shape)\n",
        "print(\"Test y Dim \",y_test.shape)"
      ]
    },
    {
      "cell_type": "markdown",
      "metadata": {
        "id": "1FVEgn3UBqKY"
      },
      "source": [
        "### LSTM"
      ]
    },
    {
      "cell_type": "code",
      "execution_count": null,
      "metadata": {
        "colab": {
          "base_uri": "https://localhost:8080/"
        },
        "id": "DzmzlrAgBoo0",
        "outputId": "709b670a-1292-403f-c2cd-1c7aecd2aa76"
      },
      "outputs": [
        {
          "name": "stdout",
          "output_type": "stream",
          "text": [
            "Model: \"sequential\"\n",
            "_________________________________________________________________\n",
            " Layer (type)                Output Shape              Param #   \n",
            "=================================================================\n",
            " embedding (Embedding)       (None, 40, 20)            350180    \n",
            "                                                                 \n",
            " lstm (LSTM)                 (None, 40, 80)            32320     \n",
            "                                                                 \n",
            " dropout (Dropout)           (None, 40, 80)            0         \n",
            "                                                                 \n",
            " lstm_1 (LSTM)               (None, 40)                19360     \n",
            "                                                                 \n",
            " dropout_1 (Dropout)         (None, 40)                0         \n",
            "                                                                 \n",
            " dense (Dense)               (None, 20)                820       \n",
            "                                                                 \n",
            "=================================================================\n",
            "Total params: 402680 (1.54 MB)\n",
            "Trainable params: 402680 (1.54 MB)\n",
            "Non-trainable params: 0 (0.00 Byte)\n",
            "_________________________________________________________________\n"
          ]
        }
      ],
      "source": [
        "from keras.models import Sequential\n",
        "from keras.layers import Dropout, Dense, LSTM, Bidirectional,Embedding, GlobalMaxPool1D\n",
        "\n",
        "\n",
        "\n",
        "vocabulary_size = vocab_size\n",
        "seq_len = 40\n",
        "embed_len=20\n",
        "\n",
        "model = Sequential()\n",
        "model.add(Embedding(vocabulary_size+1, embed_len, input_length=seq_len))\n",
        "model.add(LSTM(units = 80, return_sequences=True))\n",
        "model.add(Dropout(0.5))\n",
        "model.add(LSTM(units = 40))\n",
        "model.add(Dropout(0.5))\n",
        "model.add(Dense(units=20, activation='softmax'))\n",
        "model.summary()"
      ]
    },
    {
      "cell_type": "code",
      "execution_count": null,
      "metadata": {
        "id": "nSo_BOWSBvCE"
      },
      "outputs": [],
      "source": [
        "from tensorflow.keras.callbacks import EarlyStopping\n",
        "\n",
        "early_stop = EarlyStopping(monitor=\"val_loss\", mode=\"min\", patience=1,verbose=1)\n",
        "\n",
        "model.compile(loss = 'categorical_crossentropy',\n",
        "             optimizer = \"adam\",\n",
        "             metrics=[\"accuracy\"])"
      ]
    },
    {
      "cell_type": "code",
      "execution_count": null,
      "metadata": {
        "id": "HNABu7-FBwRh"
      },
      "outputs": [],
      "source": [
        "from keras.utils import to_categorical\n",
        "\n",
        "y_train_cat = to_categorical(y_train)\n",
        "y_test_cat = to_categorical(y_test)"
      ]
    },
    {
      "cell_type": "code",
      "execution_count": null,
      "metadata": {
        "colab": {
          "base_uri": "https://localhost:8080/"
        },
        "id": "2Db4NVzwBxes",
        "outputId": "cae1d676-e812-4187-9d5f-ff142902108c"
      },
      "outputs": [
        {
          "name": "stdout",
          "output_type": "stream",
          "text": [
            "Epoch 1/20\n",
            "369/369 [==============================] - 84s 203ms/step - loss: 2.6541 - accuracy: 0.1780 - val_loss: 2.1045 - val_accuracy: 0.3675\n",
            "Epoch 2/20\n",
            "369/369 [==============================] - 78s 211ms/step - loss: 1.8936 - accuracy: 0.4204 - val_loss: 1.6209 - val_accuracy: 0.5067\n",
            "Epoch 3/20\n",
            "369/369 [==============================] - 69s 187ms/step - loss: 1.5554 - accuracy: 0.5255 - val_loss: 1.4203 - val_accuracy: 0.5747\n",
            "Epoch 4/20\n",
            "369/369 [==============================] - 69s 186ms/step - loss: 1.3920 - accuracy: 0.5738 - val_loss: 1.3272 - val_accuracy: 0.6047\n",
            "Epoch 5/20\n",
            "369/369 [==============================] - 54s 147ms/step - loss: 1.2920 - accuracy: 0.6088 - val_loss: 1.2616 - val_accuracy: 0.6278\n",
            "Epoch 6/20\n",
            "369/369 [==============================] - 51s 139ms/step - loss: 1.2203 - accuracy: 0.6356 - val_loss: 1.2143 - val_accuracy: 0.6400\n",
            "Epoch 7/20\n",
            "369/369 [==============================] - 58s 156ms/step - loss: 1.1647 - accuracy: 0.6544 - val_loss: 1.1794 - val_accuracy: 0.6533\n",
            "Epoch 8/20\n",
            "369/369 [==============================] - 52s 141ms/step - loss: 1.1099 - accuracy: 0.6696 - val_loss: 1.1538 - val_accuracy: 0.6627\n",
            "Epoch 9/20\n",
            "369/369 [==============================] - 54s 147ms/step - loss: 1.0655 - accuracy: 0.6859 - val_loss: 1.1274 - val_accuracy: 0.6698\n",
            "Epoch 10/20\n",
            "369/369 [==============================] - 52s 140ms/step - loss: 1.0345 - accuracy: 0.6930 - val_loss: 1.1038 - val_accuracy: 0.6732\n",
            "Epoch 11/20\n",
            "369/369 [==============================] - 53s 143ms/step - loss: 1.0015 - accuracy: 0.7005 - val_loss: 1.0919 - val_accuracy: 0.6818\n",
            "Epoch 12/20\n",
            "369/369 [==============================] - 50s 136ms/step - loss: 0.9718 - accuracy: 0.7102 - val_loss: 1.0906 - val_accuracy: 0.6879\n",
            "Epoch 13/20\n",
            "369/369 [==============================] - 52s 142ms/step - loss: 0.9458 - accuracy: 0.7173 - val_loss: 1.0740 - val_accuracy: 0.6885\n",
            "Epoch 14/20\n",
            "369/369 [==============================] - 52s 141ms/step - loss: 0.9288 - accuracy: 0.7223 - val_loss: 1.0675 - val_accuracy: 0.6913\n",
            "Epoch 15/20\n",
            "369/369 [==============================] - 51s 139ms/step - loss: 0.9074 - accuracy: 0.7270 - val_loss: 1.0581 - val_accuracy: 0.6949\n",
            "Epoch 16/20\n",
            "369/369 [==============================] - 52s 141ms/step - loss: 0.8926 - accuracy: 0.7303 - val_loss: 1.0564 - val_accuracy: 0.6976\n",
            "Epoch 17/20\n",
            "369/369 [==============================] - 56s 153ms/step - loss: 0.8734 - accuracy: 0.7344 - val_loss: 1.0392 - val_accuracy: 0.7022\n",
            "Epoch 18/20\n",
            "369/369 [==============================] - 52s 140ms/step - loss: 0.8558 - accuracy: 0.7376 - val_loss: 1.0548 - val_accuracy: 0.7028\n",
            "Epoch 18: early stopping\n"
          ]
        },
        {
          "data": {
            "text/plain": [
              "<keras.src.callbacks.History at 0x7e77c44b2500>"
            ]
          },
          "execution_count": 24,
          "metadata": {},
          "output_type": "execute_result"
        }
      ],
      "source": [
        "batch_size=128\n",
        "epochs = 20\n"
      ]
    },
    {
      "cell_type": "code",
      "execution_count": null,
      "metadata": {
        "colab": {
          "base_uri": "https://localhost:8080/"
        },
        "id": "Qc9eg5zUBzTM",
        "outputId": "c2ed6c54-93d0-4e0f-f90a-17e51f4c1741"
      },
      "outputs": [
        {
          "name": "stdout",
          "output_type": "stream",
          "text": [
            "93/93 [==============================] - 4s 41ms/step - loss: 1.0548 - accuracy: 0.7028\n"
          ]
        },
        {
          "data": {
            "text/plain": [
              "[1.0548404455184937, 0.7027806043624878]"
            ]
          },
          "execution_count": 25,
          "metadata": {},
          "output_type": "execute_result"
        }
      ],
      "source": [
        "model.evaluate(X_test, y_test_cat, batch_size=batch_size)"
      ]
    },
    {
      "cell_type": "markdown",
      "metadata": {
        "id": "fXO-IkFMB0y2"
      },
      "source": [
        "### Bidirectional-LSTM"
      ]
    },
    {
      "cell_type": "code",
      "execution_count": null,
      "metadata": {
        "colab": {
          "base_uri": "https://localhost:8080/"
        },
        "id": "d2gQ57WcB17h",
        "outputId": "c60dbe35-8d14-418c-d2b0-e11b095758e0"
      },
      "outputs": [
        {
          "name": "stdout",
          "output_type": "stream",
          "text": [
            "Model: \"sequential\"\n",
            "_________________________________________________________________\n",
            " Layer (type)                Output Shape              Param #   \n",
            "=================================================================\n",
            " embedding (Embedding)       (None, 140, 128)          2317056   \n",
            "                                                                 \n",
            " bidirectional (Bidirection  (None, 140, 160)          133760    \n",
            " al)                                                             \n",
            "                                                                 \n",
            " bidirectional_1 (Bidirecti  (None, 140, 160)          154240    \n",
            " onal)                                                           \n",
            "                                                                 \n",
            " global_max_pooling1d (Glob  (None, 160)               0         \n",
            " alMaxPooling1D)                                                 \n",
            "                                                                 \n",
            " dropout (Dropout)           (None, 160)               0         \n",
            "                                                                 \n",
            " dense (Dense)               (None, 64)                10304     \n",
            "                                                                 \n",
            " dropout_1 (Dropout)         (None, 64)                0         \n",
            "                                                                 \n",
            " dense_1 (Dense)             (None, 20)                1300      \n",
            "                                                                 \n",
            "=================================================================\n",
            "Total params: 2616660 (9.98 MB)\n",
            "Trainable params: 2616660 (9.98 MB)\n",
            "Non-trainable params: 0 (0.00 Byte)\n",
            "_________________________________________________________________\n"
          ]
        }
      ],
      "source": [
        "from keras.models import Sequential\n",
        "from keras.layers import Dropout, Dense, LSTM, Bidirectional,Embedding, GlobalMaxPool1D\n",
        "\n",
        "\n",
        "\n",
        "vocabulary_size = vocab_size\n",
        "seq_len = 140\n",
        "embed_len=128\n",
        "\n",
        "\n",
        "model = Sequential()\n",
        "model.add(Embedding(vocabulary_size+1, embed_len, input_length=seq_len))\n",
        "model.add(Bidirectional(LSTM(80,return_sequences=True)))\n",
        "model.add(Bidirectional(LSTM(80,return_sequences=True)))\n",
        "model.add(GlobalMaxPool1D())\n",
        "model.add(Dropout(0.5))\n",
        "model.add(Dense(64, activation=\"relu\"))\n",
        "model.add(Dropout(0.5))\n",
        "model.add(Dense(20, activation=\"softmax\"))\n",
        "\n",
        "model.summary()"
      ]
    },
    {
      "cell_type": "code",
      "execution_count": null,
      "metadata": {
        "id": "QPF8Xfy5B19p"
      },
      "outputs": [],
      "source": [
        "from tensorflow.keras.callbacks import EarlyStopping\n",
        "\n",
        "early_stop = EarlyStopping(monitor=\"val_loss\", mode=\"min\", patience=0,verbose=1)\n",
        "\n",
        "model.compile(loss = 'categorical_crossentropy',\n",
        "             optimizer = \"adam\",\n",
        "             metrics=[\"accuracy\"])"
      ]
    },
    {
      "cell_type": "code",
      "execution_count": null,
      "metadata": {
        "id": "0QOOhaS5DMUO"
      },
      "outputs": [],
      "source": [
        "from keras.utils import to_categorical\n",
        "\n",
        "y_train_cat = to_categorical(y_train)\n",
        "y_test_cat = to_categorical(y_test)"
      ]
    },
    {
      "cell_type": "code",
      "execution_count": null,
      "metadata": {
        "colab": {
          "background_save": true,
          "base_uri": "https://localhost:8080/"
        },
        "id": "zZXK5QniDOdN",
        "outputId": "40fc1b18-7e38-478a-88c1-d942fa6e09ef"
      },
      "outputs": [
        {
          "name": "stdout",
          "output_type": "stream",
          "text": [
            "Epoch 1/15\n",
            " 177/1077 [===>..........................] - ETA: 15:45 - loss: 2.7767 - accuracy: 0.1394"
          ]
        }
      ],
      "source": [
        "batch_size=64\n",
        "epochs = 15\n",
        "\n",
        "model.fit(X_train, y_train_cat, batch_size=batch_size, epochs = epochs,\n",
        "          shuffle=True,validation_data=(X_test, y_test_cat), callbacks=[early_stop])"
      ]
    },
    {
      "cell_type": "code",
      "execution_count": null,
      "metadata": {
        "colab": {
          "base_uri": "https://localhost:8080/",
          "height": 141
        },
        "id": "ASZSk75_DQDM",
        "outputId": "0a6c201f-a3b1-4ea5-e865-412c83ed91a3"
      },
      "outputs": [
        {
          "ename": "NameError",
          "evalue": "name 'model' is not defined",
          "output_type": "error",
          "traceback": [
            "\u001b[0;31m---------------------------------------------------------------------------\u001b[0m",
            "\u001b[0;31mNameError\u001b[0m                                 Traceback (most recent call last)",
            "\u001b[0;32m<ipython-input-4-2f8e61e08fb7>\u001b[0m in \u001b[0;36m<cell line: 1>\u001b[0;34m()\u001b[0m\n\u001b[0;32m----> 1\u001b[0;31m \u001b[0mmodel\u001b[0m\u001b[0;34m.\u001b[0m\u001b[0mevaluate\u001b[0m\u001b[0;34m(\u001b[0m\u001b[0mX_test\u001b[0m\u001b[0;34m,\u001b[0m \u001b[0my_test_cat\u001b[0m\u001b[0;34m,\u001b[0m \u001b[0mbatch_size\u001b[0m\u001b[0;34m=\u001b[0m\u001b[0mbatch_size\u001b[0m\u001b[0;34m)\u001b[0m\u001b[0;34m\u001b[0m\u001b[0;34m\u001b[0m\u001b[0m\n\u001b[0m",
            "\u001b[0;31mNameError\u001b[0m: name 'model' is not defined"
          ]
        }
      ],
      "source": [
        "model.evaluate(X_test, y_test_cat, batch_size=batch_size)"
      ]
    },
    {
      "cell_type": "markdown",
      "metadata": {
        "id": "lhdS8nTgDVlD"
      },
      "source": [
        "### Mapping"
      ]
    },
    {
      "cell_type": "code",
      "execution_count": null,
      "metadata": {
        "id": "m14sqAEKDXz7"
      },
      "outputs": [],
      "source": [
        "emoji_raw = open('/content/drive/MyDrive/AI_final_project/最終dataset/20_mapping_emojis.txt','r',encoding=\"utf8\")\n",
        "\n",
        "emojis=[]\n",
        "for sentence in emoji_raw:\n",
        "    sentence = sentence.rstrip()\n",
        "    emojis.append(sentence)\n",
        "\n",
        "\n",
        "emoji_dict={}\n",
        "\n",
        "for e in emojis:\n",
        "    idx = int(e.split()[0])\n",
        "    emoji = e.split()[1]\n",
        "    emoji_dict[idx] = emoji"
      ]
    },
    {
      "cell_type": "code",
      "execution_count": null,
      "metadata": {
        "colab": {
          "base_uri": "https://localhost:8080/"
        },
        "id": "ySBK4lYWDkXw",
        "outputId": "e6592c9c-4663-41c2-e737-a2c80bfda5ff"
      },
      "outputs": [
        {
          "data": {
            "text/plain": [
              "{0: '😍',\n",
              " 1: '❤',\n",
              " 2: '😂',\n",
              " 3: '🔥',\n",
              " 4: '🏻',\n",
              " 5: '🤣',\n",
              " 6: '🙌',\n",
              " 7: '💜',\n",
              " 8: '😢',\n",
              " 9: '\\U0001f979',\n",
              " 10: '🐦',\n",
              " 11: '✨',\n",
              " 12: '👏',\n",
              " 13: '📍',\n",
              " 14: '😭',\n",
              " 15: '💌',\n",
              " 16: '🥺',\n",
              " 17: '😆',\n",
              " 18: '👍',\n",
              " 19: '💙'}"
            ]
          },
          "execution_count": 32,
          "metadata": {},
          "output_type": "execute_result"
        }
      ],
      "source": [
        "emoji_dict"
      ]
    },
    {
      "cell_type": "code",
      "execution_count": null,
      "metadata": {
        "colab": {
          "base_uri": "https://localhost:8080/"
        },
        "id": "b98IoMzrbiRV",
        "outputId": "6282827f-bca6-4757-beb2-a184b3d4213f"
      },
      "outputs": [
        {
          "name": "stderr",
          "output_type": "stream",
          "text": [
            "/usr/local/lib/python3.10/dist-packages/keras/src/engine/training.py:3103: UserWarning: You are saving your model as an HDF5 file via `model.save()`. This file format is considered legacy. We recommend using instead the native Keras format, e.g. `model.save('my_model.keras')`.\n",
            "  saving_api.save_model(\n"
          ]
        }
      ],
      "source": [
        "model.save('/content/drive/MyDrive/AI_final_project/20BLSTM_model.h5')"
      ]
    },
    {
      "cell_type": "code",
      "execution_count": null,
      "metadata": {
        "id": "Q13YH5NlDlLv"
      },
      "outputs": [],
      "source": [
        "import jieba\n",
        "jieba.set_dictionary('/content/drive/MyDrive/AI_final_project/dict.txt.big.txt')\n",
        "\n",
        "def get_stopwords(file):\n",
        "    stopword_list = []\n",
        "    with open(file, 'r', encoding='utf-8') as f:\n",
        "        for line in f:\n",
        "            line = line.strip()\n",
        "            stopword_list.append(line)\n",
        "    return stopword_list\n",
        "\n",
        "def remove_stopwords(sentence, stopwords):\n",
        "    return [word for word in sentence if word not in stopwords and word.strip()]\n",
        "\n",
        "stopwords = get_stopwords('/content/drive/MyDrive/AI_final_project/stopwords.txt')\n",
        "\n",
        "def preprocess_text(X):\n",
        "    tokenized_sentences = []\n",
        "    for sentence in X:\n",
        "      words = list(jieba.cut(sentence))\n",
        "      filtered_words = remove_stopwords(words, stopwords)\n",
        "      tokenized_sentences.append(filtered_words)\n",
        "    tokenized_texts = [\" \".join(sentence) for sentence in tokenized_sentences]\n",
        "\n",
        "    max_len=140\n",
        "    X_seqs = tokenizer.texts_to_sequences(tokenized_texts)\n",
        "    X_seqs_pd = pad_sequences(X_seqs, truncating=\"pre\", padding=\"pre\", maxlen=max_len)\n",
        "    return X_seqs_pd"
      ]
    },
    {
      "cell_type": "code",
      "execution_count": null,
      "metadata": {
        "id": "HIGFGJ4JDpSE"
      },
      "outputs": [],
      "source": [
        "def predict_emoji(text):\n",
        "    X_sequences = preprocess_text([text])\n",
        "    predictions = np.argmax(model.predict(X_sequences), axis=1)\n",
        "    emoji_idx = predictions[0]\n",
        "    emoji = emoji_dict[emoji_idx]\n",
        "\n",
        "    return emoji"
      ]
    },
    {
      "cell_type": "code",
      "execution_count": null,
      "metadata": {
        "id": "rSIl0Am7DqYT"
      },
      "outputs": [],
      "source": [
        "text = input(\"Enter text\\n\\n\")\n",
        "\n",
        "print(\"\\n\\nEmojified Text\\n\\n\")\n",
        "print(text + \" \" + predict_emoji(text))"
      ]
    },
    {
      "cell_type": "code",
      "execution_count": null,
      "metadata": {
        "id": "C9J95t5AWjMx"
      },
      "outputs": [],
      "source": [
        "paragraph = '''\n",
        "近期（2024年3月直至今日），連續的食安風暴襲捲了臺灣及日本兩地，大至蘇丹紅色素案、寶林茶室中毒案、小林製藥紅麴產品汙染事件等，小至遍及全台各地的食品中毒事件，無不讓整體社會人心惶惶，甚至產生下列之疑惑：我們要如何確定生活中所吃到的任何食物（食品）都是安全的呢？食安相關規定又是如何為國人健康把關？以下筆者便會以上述所列之食安事件為例，除了為各位讀者簡述引發該案之緣由，更針對其涉及之食安規定、準則等做詳述及討論，讓大家能更認識食安的整體相關運作體系。\n",
        "\n",
        "'''"
      ]
    },
    {
      "cell_type": "code",
      "execution_count": null,
      "metadata": {
        "id": "vxFquMb5l5VJ"
      },
      "outputs": [],
      "source": [
        "paragraph = input(\"Enter text\\n\\n\")"
      ]
    },
    {
      "cell_type": "code",
      "execution_count": null,
      "metadata": {
        "id": "pv8kvApwUiIK"
      },
      "outputs": [],
      "source": [
        "import re\n",
        "def emojify_paragraph(paragraph):\n",
        "    # 按行分割输入段落\n",
        "    lines = re.split(r'[\\n，。]', paragraph)\n",
        "    emojified_lines = []\n",
        "\n",
        "    # 逐行处理每一行\n",
        "    for line in lines:\n",
        "        if line.strip():  # 如果行非空\n",
        "            emojified_line = line + predict_emoji(line)\n",
        "            emojified_lines.append(emojified_line)\n",
        "        else:\n",
        "            emojified_lines.append(line)\n",
        "\n",
        "    # 重新组合成一个段落\n",
        "    emojified_paragraph = '\\n'.join(emojified_lines)\n",
        "    return emojified_paragraph\n",
        "\n",
        "print(paragraph+'\\n')\n",
        "print(emojify_paragraph(paragraph))\n"
      ]
    },
    {
      "cell_type": "markdown",
      "metadata": {
        "id": "9HzQD3NPoJzt"
      },
      "source": [
        "### Model Evaluation"
      ]
    },
    {
      "cell_type": "code",
      "execution_count": null,
      "metadata": {
        "id": "QUiJpCSJoJdQ"
      },
      "outputs": [],
      "source": [
        "from sklearn.metrics import classification_report, confusion_matrix\n",
        "\n",
        "predictions = model.predict(X_test)\n",
        "predicted_labels = np.argmax(predictions, axis=1)\n",
        "report = classification_report(y_test, predicted_labels)\n",
        "conf_matrix = confusion_matrix(y_test, predicted_labels)\n",
        "print(report)"
      ]
    },
    {
      "cell_type": "code",
      "execution_count": null,
      "metadata": {
        "id": "Ja1BSI5VXMln"
      },
      "outputs": [],
      "source": [
        "plt.figure(figsize=(15,15))\n",
        "mat = confusion_matrix(y_test, predicted_labels)\n",
        "sns.heatmap(mat, annot=True)\n",
        "plt.show()"
      ]
    },
    {
      "cell_type": "markdown",
      "metadata": {
        "id": "39ClI2fHon5N"
      },
      "source": [
        "### Save model"
      ]
    },
    {
      "cell_type": "code",
      "execution_count": null,
      "metadata": {
        "id": "2jTvmQM7oqCS"
      },
      "outputs": [],
      "source": [
        "model.save('/content/drive/MyDrive/emoji_test/emoji_model.h5', save_format='h5')"
      ]
    },
    {
      "cell_type": "code",
      "execution_count": null,
      "metadata": {
        "id": "fArBvR26vcpx"
      },
      "outputs": [],
      "source": [
        "!pip install flask pyngrok"
      ]
    },
    {
      "cell_type": "code",
      "execution_count": null,
      "metadata": {
        "id": "jwZfqnRou1dZ"
      },
      "outputs": [],
      "source": [
        "from flask import Flask, request, render_template\n",
        "from pyngrok import ngrok\n",
        "\n",
        "app = Flask(__name__)\n",
        "\n",
        "# 创建一个简单的主页\n",
        "@app.route(\"/\", methods=[\"GET\", \"POST\"])\n",
        "def home():\n",
        "    if request.method == \"POST\":\n",
        "        text = request.form[\"text\"]\n",
        "        # 这里可以调用您的预测函数\n",
        "        result = text + \" 😍\"  # 示例结果\n",
        "        return render_template(\"index.html\", result=result)\n",
        "    return render_template(\"index.html\", result=\"\")\n",
        "\n",
        "# 创建一个 index.html 文件\n",
        "!mkdir -p templates\n",
        "with open(\"templates/index.html\", \"w\") as file:\n",
        "    file.write('''\n",
        "        <!doctype html>\n",
        "        <title>Emoji Predictor</title>\n",
        "        <h1>Enter Text to Predict Emoji</h1>\n",
        "        <form method=post>\n",
        "            <textarea name=text rows=4 cols=40></textarea>\n",
        "            <br><br>\n",
        "            <input type=submit value=Predict>\n",
        "        </form>\n",
        "        <h2>Result: {{ result }}</h2>\n",
        "    ''')\n",
        "\n",
        "# 启动 ngrok 隧道\n",
        "public_url = ngrok.connect(port=5000)\n",
        "print(\"Public URL:\", public_url)\n",
        "\n",
        "# 启动 Flask 应用\n",
        "app.run(port=5000)\n"
      ]
    }
  ],
  "metadata": {
    "colab": {
      "provenance": []
    },
    "kernelspec": {
      "display_name": "Python 3",
      "name": "python3"
    },
    "language_info": {
      "name": "python"
    }
  },
  "nbformat": 4,
  "nbformat_minor": 0
}